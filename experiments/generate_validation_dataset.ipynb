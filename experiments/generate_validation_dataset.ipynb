{
 "cells": [
  {
   "cell_type": "code",
   "execution_count": 27,
   "metadata": {},
   "outputs": [],
   "source": [
    "\n",
    "\n",
    "import tiktoken\n",
    "from langchain.embeddings import HuggingFaceEmbeddings\n",
    "from langchain.text_splitter import TokenTextSplitter\n",
    "from llama_index import VectorStoreIndex, SimpleWebPageReader, ServiceContext, StorageContext\n",
    "from llama_index.llms import OpenAI\n",
    "from llama_index.node_parser import SimpleNodeParser\n",
    "from llama_index.vector_stores import FaissVectorStore\n"
   ]
  },
  {
   "cell_type": "code",
   "execution_count": 2,
   "metadata": {},
   "outputs": [],
   "source": [
    "import os\n",
    "\n",
    "os.environ[\"OPENAI_API_KEY\"] = \"<Put the OpenAI API Key here>\""
   ]
  },
  {
   "cell_type": "code",
   "execution_count": 3,
   "metadata": {},
   "outputs": [],
   "source": [
    "def get_documents(url: str):\n",
    "    documents = SimpleWebPageReader(html_to_text=True).load_data(\n",
    "        [url]\n",
    "    )\n",
    "    return documents\n",
    "\n",
    "\n",
    "def num_tokens_from_string(string: str, model_name: str) -> int:\n",
    "    \"\"\"Returns the number of tokens in a text string.\"\"\"\n",
    "    encoding = tiktoken.encoding_for_model(model_name)\n",
    "    num_tokens = len(encoding.encode(string))\n",
    "    return num_tokens"
   ]
  },
  {
   "cell_type": "code",
   "execution_count": 5,
   "metadata": {},
   "outputs": [],
   "source": [
    "def get_embedding():\n",
    "    model_name = \"sentence-transformers/all-MiniLM-l6-v2\"\n",
    "    model_kwargs = {'device': 'cpu'}\n",
    "\n",
    "    encode_kwargs = {'normalize_embeddings': False}\n",
    "    hf = HuggingFaceEmbeddings(\n",
    "        model_name=model_name,\n",
    "        model_kwargs=model_kwargs,\n",
    "        encode_kwargs=encode_kwargs\n",
    "    )\n",
    "    return hf"
   ]
  },
  {
   "cell_type": "code",
   "execution_count": 6,
   "metadata": {},
   "outputs": [
    {
     "data": {
      "application/vnd.jupyter.widget-view+json": {
       "model_id": "310ba86a17c44b58b7afd8dfb865db38",
       "version_major": 2,
       "version_minor": 0
      },
      "text/plain": [
       "Downloading (…)e9125/.gitattributes:   0%|          | 0.00/1.18k [00:00<?, ?B/s]"
      ]
     },
     "metadata": {},
     "output_type": "display_data"
    },
    {
     "data": {
      "application/vnd.jupyter.widget-view+json": {
       "model_id": "a41f0b5124ca4faea6b3eb5fa03bffb3",
       "version_major": 2,
       "version_minor": 0
      },
      "text/plain": [
       "Downloading (…)_Pooling/config.json:   0%|          | 0.00/190 [00:00<?, ?B/s]"
      ]
     },
     "metadata": {},
     "output_type": "display_data"
    },
    {
     "data": {
      "application/vnd.jupyter.widget-view+json": {
       "model_id": "0a8e04d19d374211a4d272092614b7bb",
       "version_major": 2,
       "version_minor": 0
      },
      "text/plain": [
       "Downloading (…)7e55de9125/README.md:   0%|          | 0.00/10.6k [00:00<?, ?B/s]"
      ]
     },
     "metadata": {},
     "output_type": "display_data"
    },
    {
     "data": {
      "application/vnd.jupyter.widget-view+json": {
       "model_id": "fc04dfaf31a5403187d05ecab1c1dd7b",
       "version_major": 2,
       "version_minor": 0
      },
      "text/plain": [
       "Downloading (…)55de9125/config.json:   0%|          | 0.00/612 [00:00<?, ?B/s]"
      ]
     },
     "metadata": {},
     "output_type": "display_data"
    },
    {
     "data": {
      "application/vnd.jupyter.widget-view+json": {
       "model_id": "3e3bcecc1e6e4c87b6cb0ed72247eb26",
       "version_major": 2,
       "version_minor": 0
      },
      "text/plain": [
       "Downloading (…)ce_transformers.json:   0%|          | 0.00/116 [00:00<?, ?B/s]"
      ]
     },
     "metadata": {},
     "output_type": "display_data"
    },
    {
     "data": {
      "application/vnd.jupyter.widget-view+json": {
       "model_id": "593e0a81ff974b76a7242648880a8c47",
       "version_major": 2,
       "version_minor": 0
      },
      "text/plain": [
       "Downloading (…)125/data_config.json:   0%|          | 0.00/39.3k [00:00<?, ?B/s]"
      ]
     },
     "metadata": {},
     "output_type": "display_data"
    },
    {
     "data": {
      "application/vnd.jupyter.widget-view+json": {
       "model_id": "a35f45e681cd4331be0e93eae95d3772",
       "version_major": 2,
       "version_minor": 0
      },
      "text/plain": [
       "Downloading pytorch_model.bin:   0%|          | 0.00/90.9M [00:00<?, ?B/s]"
      ]
     },
     "metadata": {},
     "output_type": "display_data"
    },
    {
     "data": {
      "application/vnd.jupyter.widget-view+json": {
       "model_id": "67308d9be11d47828455e48ec211c604",
       "version_major": 2,
       "version_minor": 0
      },
      "text/plain": [
       "Downloading (…)nce_bert_config.json:   0%|          | 0.00/53.0 [00:00<?, ?B/s]"
      ]
     },
     "metadata": {},
     "output_type": "display_data"
    },
    {
     "data": {
      "application/vnd.jupyter.widget-view+json": {
       "model_id": "24b4aa7381cb4d81874d3973f07d0f65",
       "version_major": 2,
       "version_minor": 0
      },
      "text/plain": [
       "Downloading (…)cial_tokens_map.json:   0%|          | 0.00/112 [00:00<?, ?B/s]"
      ]
     },
     "metadata": {},
     "output_type": "display_data"
    },
    {
     "data": {
      "application/vnd.jupyter.widget-view+json": {
       "model_id": "7c1e3edf435d4dd79a950d60a447181d",
       "version_major": 2,
       "version_minor": 0
      },
      "text/plain": [
       "Downloading (…)e9125/tokenizer.json:   0%|          | 0.00/466k [00:00<?, ?B/s]"
      ]
     },
     "metadata": {},
     "output_type": "display_data"
    },
    {
     "data": {
      "application/vnd.jupyter.widget-view+json": {
       "model_id": "8f903256376f4c47bd668dfa734dda48",
       "version_major": 2,
       "version_minor": 0
      },
      "text/plain": [
       "Downloading (…)okenizer_config.json:   0%|          | 0.00/350 [00:00<?, ?B/s]"
      ]
     },
     "metadata": {},
     "output_type": "display_data"
    },
    {
     "data": {
      "application/vnd.jupyter.widget-view+json": {
       "model_id": "4c018122b6404217a91775108533470c",
       "version_major": 2,
       "version_minor": 0
      },
      "text/plain": [
       "Downloading (…)9125/train_script.py:   0%|          | 0.00/13.2k [00:00<?, ?B/s]"
      ]
     },
     "metadata": {},
     "output_type": "display_data"
    },
    {
     "data": {
      "application/vnd.jupyter.widget-view+json": {
       "model_id": "0a93701cb89248dbac0947b756b46b80",
       "version_major": 2,
       "version_minor": 0
      },
      "text/plain": [
       "Downloading (…)7e55de9125/vocab.txt:   0%|          | 0.00/232k [00:00<?, ?B/s]"
      ]
     },
     "metadata": {},
     "output_type": "display_data"
    },
    {
     "data": {
      "application/vnd.jupyter.widget-view+json": {
       "model_id": "f63584140e414340845d9d97f87c97e0",
       "version_major": 2,
       "version_minor": 0
      },
      "text/plain": [
       "Downloading (…)5de9125/modules.json:   0%|          | 0.00/349 [00:00<?, ?B/s]"
      ]
     },
     "metadata": {},
     "output_type": "display_data"
    }
   ],
   "source": [
    "embedding_model = get_embedding()\n",
    "documents = get_documents(\"https://www.pg.unicamp.br/norma/31594/0\")"
   ]
  },
  {
   "cell_type": "code",
   "execution_count": 7,
   "metadata": {},
   "outputs": [
    {
     "data": {
      "text/plain": [
       "65682"
      ]
     },
     "execution_count": 7,
     "metadata": {},
     "output_type": "execute_result"
    }
   ],
   "source": [
    "num_tokens_from_string(documents[0].text, \"gpt-3.5-turbo\")"
   ]
  },
  {
   "cell_type": "code",
   "execution_count": 8,
   "metadata": {},
   "outputs": [],
   "source": [
    "node_parser = SimpleNodeParser.from_defaults(\n",
    "    text_splitter=TokenTextSplitter(chunk_size=4000, chunk_overlap=200)\n",
    ")\n",
    "\n",
    "llm = OpenAI(temperature=0, model=\"gpt-4\", max_tokens=512)\n",
    "\n",
    "service_context = ServiceContext.from_defaults(\n",
    "    llm=llm,\n",
    "    embed_model=embedding_model,\n",
    "    node_parser=node_parser\n",
    ")"
   ]
  },
  {
   "cell_type": "code",
   "execution_count": 10,
   "metadata": {},
   "outputs": [
    {
     "data": {
      "application/vnd.jupyter.widget-view+json": {
       "model_id": "62fedff6adbf4e379a5b090e1a14ff09",
       "version_major": 2,
       "version_minor": 0
      },
      "text/plain": [
       "Parsing documents into nodes:   0%|          | 0/1 [00:00<?, ?it/s]"
      ]
     },
     "metadata": {},
     "output_type": "display_data"
    },
    {
     "data": {
      "application/vnd.jupyter.widget-view+json": {
       "model_id": "508e9e6a055e44909d94a11254322b4f",
       "version_major": 2,
       "version_minor": 0
      },
      "text/plain": [
       "Generating embeddings:   0%|          | 0/24 [00:00<?, ?it/s]"
      ]
     },
     "metadata": {},
     "output_type": "display_data"
    }
   ],
   "source": [
    "import faiss\n",
    "\n",
    "d = 384\n",
    "faiss_index = faiss.IndexFlatL2(d)\n",
    "vector_store = FaissVectorStore(faiss_index=faiss_index)\n",
    "\n",
    "storage_context = StorageContext.from_defaults(vector_store=vector_store)\n",
    "\n",
    "index = VectorStoreIndex.from_documents(documents, storage_context=storage_context, service_context=service_context,\n",
    "                                        show_progress=True)"
   ]
  },
  {
   "cell_type": "code",
   "execution_count": 11,
   "metadata": {},
   "outputs": [],
   "source": [
    "nodes = node_parser.get_nodes_from_documents(documents)"
   ]
  },
  {
   "cell_type": "code",
   "execution_count": 12,
   "metadata": {},
   "outputs": [],
   "source": [
    "\n",
    "\n",
    "from llama_index.prompts import (\n",
    "    ChatMessage,\n",
    "    ChatPromptTemplate,\n",
    "    MessageRole,\n",
    "    PromptTemplate,\n",
    ")\n",
    "\n",
    "import re"
   ]
  },
  {
   "cell_type": "code",
   "execution_count": 13,
   "metadata": {},
   "outputs": [],
   "source": [
    "QA_PROMPT = PromptTemplate(\n",
    "    \"As informações dos documentos estão apresentadas abaixo.\\n\"\n",
    "    \"---------------------\\n\"\n",
    "    \"{context_str}\\n\"\n",
    "    \"---------------------\\n\"\n",
    "    \"Dadas as informações dos documentos e nenhum conhecimento prévio, \"\n",
    "    \"responda a pergunta.\\n\"\n",
    "    \"Pergunta: {query_str}\\n\"\n",
    "    \"Resposta: \"\n",
    ")\n",
    "\n",
    "\n",
    "def generate_answers_for_questions(questions, context, llm):\n",
    "    \"\"\"Generate answers for questions given context.\"\"\"\n",
    "    answers = []\n",
    "    for question in questions:\n",
    "        fmt_qa_prompt = QA_PROMPT.format(\n",
    "            context_str=context, query_str=question\n",
    "        )\n",
    "        response_obj = llm.complete(fmt_qa_prompt)\n",
    "        answers.append(str(response_obj))\n",
    "    return answers"
   ]
  },
  {
   "cell_type": "code",
   "execution_count": 14,
   "metadata": {},
   "outputs": [],
   "source": [
    "QUESTION_GEN_USER_TMPL = (\n",
    "    \"As informações dos documents estão apresentadas abaixo.\\n\"\n",
    "    \"---------------------\\n\"\n",
    "    \"{context_str}\\n\"\n",
    "    \"---------------------\\n\"\n",
    "    \"Dadas as informações dos documentos e nenhum conhecimento prévio, \"\n",
    "    \"gere perguntas relevantes.\"\n",
    ")\n",
    "\n",
    "QUESTION_GEN_SYS_TMPL = (\n",
    "    \"Você é um professor de pesquisa. Usando os documentos fornecidos, \"\n",
    "    \"sua tarefa é criar uma lista com APENAS 1 pergunta.\"\n",
    "    \"Limite as perguntas às informações fornecidas dos documentos.\\n\"\n",
    ")\n",
    "\n",
    "question_gen_template = ChatPromptTemplate(\n",
    "    message_templates=[\n",
    "        ChatMessage(role=MessageRole.SYSTEM, content=QUESTION_GEN_SYS_TMPL),\n",
    "        ChatMessage(role=MessageRole.USER, content=QUESTION_GEN_USER_TMPL),\n",
    "    ]\n",
    ")\n",
    "\n",
    "\n",
    "def generate_qa_pairs(nodes, llm, num_questions_per_chunk):\n",
    "    \"\"\"Generate questions.\"\"\"\n",
    "    qa_pairs = []\n",
    "    for idx, node in enumerate(nodes):\n",
    "        print(f\"Node {idx}/{len(nodes)}\")\n",
    "        context_str = node.get_content(metadata_mode=\"all\")\n",
    "        fmt_messages = question_gen_template.format_messages(\n",
    "            num_questions_per_chunk=num_questions_per_chunk,\n",
    "            context_str=context_str,\n",
    "        )\n",
    "        chat_response = llm.chat(fmt_messages)\n",
    "        raw_output = chat_response.message.content\n",
    "        print(raw_output)\n",
    "        result_list = str(raw_output).strip().split(\"\\n\")\n",
    "        cleaned_questions = [\n",
    "            re.sub(r\"^\\d+[\\).\\s]\", \"\", question).strip()\n",
    "            for question in result_list\n",
    "        ]\n",
    "        print(cleaned_questions)\n",
    "        answers = generate_answers_for_questions(\n",
    "            cleaned_questions, context_str, llm\n",
    "        )\n",
    "        print(answers)\n",
    "        cur_qa_pairs = list(zip(cleaned_questions, answers))\n",
    "        qa_pairs.extend(cur_qa_pairs)\n",
    "    return qa_pairs"
   ]
  },
  {
   "cell_type": "code",
   "execution_count": 15,
   "metadata": {},
   "outputs": [
    {
     "name": "stdout",
     "output_type": "stream",
     "text": [
      "Node 0/24\n",
      "Qual é o total de vagas oferecidas para o Vestibular Unicamp 2024 e como elas estão distribuídas entre os diferentes sistemas de ingresso?\n",
      "['Qual é o total de vagas oferecidas para o Vestibular Unicamp 2024 e como elas estão distribuídas entre os diferentes sistemas de ingresso?']\n",
      "['Para o ano de 2024, a Universidade Estadual de Campinas (Unicamp) está oferecendo um total de 3340 vagas regulares para ingresso nos Cursos de Graduação. Essas vagas estão distribuídas da seguinte forma entre os diferentes sistemas de ingresso:\\n\\n- 2537 vagas são oferecidas pelo Vestibular Unicamp (VU) 2024.\\n- 314 vagas são oferecidas pelo Edital ENEM-Unicamp 2024.\\n- 325 vagas são oferecidas pelo Provão Paulista 2024.\\n- 49 vagas são oferecidas pelo Vestibular Indígena (VI) 2024, que terá ainda 81 vagas adicionais.\\n- 115 vagas são oferecidas pelo Edital de olimpíadas científicas e competições de conhecimento de áreas específicas, que terá ainda 14 vagas adicionais.']\n",
      "Node 1/24\n",
      "Quais são as condições para que um candidato possa participar do Programa de Ação Afirmativa e Inclusão Social (PAAIS) na Unicamp, de acordo com os documentos fornecidos?\n",
      "['Quais são as condições para que um candidato possa participar do Programa de Ação Afirmativa e Inclusão Social (PAAIS) na Unicamp, de acordo com os documentos fornecidos?']\n",
      "['Os candidatos que podem participar do Programa de Ação Afirmativa e Inclusão Social (PAAIS) na Unicamp são aqueles que cursaram o Ensino Fundamental II e/ou o Ensino Médio integralmente em escola pública brasileira. As formas de realização do ciclo escolar aceitas pelo PAAIS incluem: Ensino Fundamental II e/ou Ensino Médio regular cumpridos integralmente em estabelecimentos da rede pública brasileira; Ensino Médio Supletivo ou EJA nas modalidades presencial, semipresencial e a distância, cumprido integralmente na rede pública brasileira, desde que o candidato não tenha cursado nenhum período do Ensino Médio em estabelecimentos privados de ensino mesmo como bolsista; e conclusão do Ensino Médio por meio de Exames Nacionais de Certificação como o ENEM – até o ano de 2016 – e o Exame Nacional para Certificação de Competências de Jovens e Adultos (ENCCEJA), desde que o candidato não tenha cursado nenhum período do Ensino Médio em estabelecimentos privados de ensino mesmo como bolsista. A participação no PAAIS é facultativa e deve ser indicada no Formulário de Inscrição. No entanto, candidatos que cursaram algum período do Ensino Fundamental II e/ou Ensino Médio em instituição privada na condição de bolsista não podem ser contemplados com a bonificação do PAAIS no período correspondente. Além disso, candidatos que cursaram escolas pertencentes a fundações privadas, escolas do Sistema S, escolas públicas no exterior, ou instituições de natureza híbrida não podem ser contemplados com a pontuação do PAAIS.']\n",
      "Node 2/24\n",
      "Quais são as datas e o formato das provas para o VU 2024, incluindo as provas de Habilidades Específicas para os cursos de Música?\n",
      "['Quais são as datas e o formato das provas para o VU 2024, incluindo as provas de Habilidades Específicas para os cursos de Música?']\n",
      "['A 1ª fase do VU 2024 será realizada no dia 29 de outubro de 2023 e a 2ª fase será realizada nos dias 03 e 04 de dezembro de 2023. A 1ª fase será constituída de uma única prova de Conhecimentos Gerais composta por 72 questões objetivas sobre as áreas do conhecimento desenvolvidas no Ensino Médio, incluindo questões interdisciplinares. A 2ª fase será constituída de provas com questões dissertativas, distribuídas em dois dias, sobre as áreas do conhecimento desenvolvidas no Ensino Médio.\\n\\nAs provas de Habilidades Específicas para os cursos de Música serão realizadas de forma virtual antes da 1ª fase do VU 2024. Os arquivos digitais deverão ser enviados para a página eletrônica da Comvest (www.comvest.unicamp.br) entre os dias 18 a 29 de setembro de 2023.']\n",
      "Node 3/24\n",
      "Qual é a consequência para um candidato que obtém nota 0 em qualquer uma das etapas das provas de Habilidades Específicas no VU 2024?\n",
      "['Qual é a consequência para um candidato que obtém nota 0 em qualquer uma das etapas das provas de Habilidades Específicas no VU 2024?']\n",
      "['O candidato que não realizar ou obtiver nota 0 em qualquer uma das etapas das provas de Habilidades Específicas no VU 2024 será eliminado do curso de primeira opção e continuará concorrendo somente em sua segunda opção, caso ela exista.']\n",
      "Node 4/24\n",
      "Qual é o procedimento para a classificação e convocação dos candidatos para cada opção de curso, de acordo com o documento?\n",
      "['Qual é o procedimento para a classificação e convocação dos candidatos para cada opção de curso, de acordo com o documento?']\n",
      "['Para cada curso, até duas provas são consideradas prioritárias. A cada prova prioritária é atribuída a Nota Mínima de Opção (NMO), que é utilizada para classificação e convocação dos candidatos em cada opção. Os candidatos serão classificados de acordo com os pesos das provas, as provas prioritárias e as NMOs consideradas no VU 2024, de acordo com o Anexo III.']\n",
      "Node 5/24\n",
      "Quais são os critérios de desempate para a última colocação de algum curso, conforme mencionado no Art. 33 do documento?\n",
      "['Quais são os critérios de desempate para a última colocação de algum curso, conforme mencionado no Art. 33 do documento?']\n",
      "['O critério de desempate para a última colocação de algum curso é a NP das provas das disciplinas prioritárias do curso, na ordem em que são apresentadas no Anexo III para cada curso. Se o empate persistir, prevalecerão as notas padronizadas das provas na ordem em que são apresentadas no § 3º do art. 23.']\n",
      "Node 6/24\n",
      "Qual é o procedimento para um candidato que foi convocado para sua segunda opção de curso, mas ainda deseja manter o interesse pela primeira opção, de acordo com o Art. 38 do documento?\n",
      "['Qual é o procedimento para um candidato que foi convocado para sua segunda opção de curso, mas ainda deseja manter o interesse pela primeira opção, de acordo com o Art. 38 do documento?']\n",
      "['O candidato deve realizar a matrícula para a qual foi convocado, em dia e horário conforme divulgado, mantendo interesse por futuro remanejamento para o curso em primeira opção, que poderá ocorrer durante as chamadas para matrícula do VU 2024. Esse interesse será indicado no ato da matrícula. Após matriculado, o aluno poderá também desistir da matrícula na 2ª opção e continuar concorrendo para a 1ª opção.']\n",
      "Node 7/24\n",
      "Qual é o curso com o maior número de vagas regulares disponíveis, de acordo com os documentos fornecidos?\n",
      "['Qual é o curso com o maior número de vagas regulares disponíveis, de acordo com os documentos fornecidos?']\n",
      "['Engenharia Mecânica (Integral) com 140 vagas.']\n",
      "Node 8/24\n",
      "Quais são as habilidades gerais que a Unicamp avalia nos candidatos durante as provas de primeira e segunda fase do vestibular?\n",
      "['Quais são as habilidades gerais que a Unicamp avalia nos candidatos durante as provas de primeira e segunda fase do vestibular?']\n",
      "['As habilidades gerais que a Unicamp avalia nos candidatos durante as provas de primeira e segunda fase do vestibular incluem: identificar e reconhecer; inferir; analisar criticamente; comparar; formular hipóteses a partir de evidências; aplicar; resolver problemas propostos; relatar procedimentos utilizados; estabelecer e explicitar relações entre informações, conceitos, fenômenos, contextos, problemas e pontos de vista a partir de evidências logicamente construídas; explicar conceitos, fenômenos, contextos e problemas; indicar as evidências nas quais se baseou para produzir as respostas solicitadas; produzir textos curtos a partir de recursos como paráfrases e sínteses para responder o que indica o enunciado; argumentar em defesa de uma tese ou de um ponto de vista, de forma consistente com os insumos apresentados na prova e com os conhecimentos de cada área.']\n",
      "Node 9/24\n",
      "Quais são as habilidades e conhecimentos que um candidato ao vestibular deve demonstrar em relação à língua portuguesa e literatura, de acordo com os documentos fornecidos?\n",
      "['Quais são as habilidades e conhecimentos que um candidato ao vestibular deve demonstrar em relação à língua portuguesa e literatura, de acordo com os documentos fornecidos?']\n",
      "['O candidato deve ser capaz de analisar criticamente textos de gêneros variados e de diversas mídias, mobilizando conhecimentos e habilidades diversificados. Ele deve analisar a forma e o sentido das estruturas e recursos linguísticos, considerando suas condições de uso e os múltiplos aspectos que envolvem a produção de sentidos nas práticas sociais. Ele deve entender o funcionamento da língua de acordo com a situação de produção do discurso e variedade linguística em uso, identificando recursos elaborados em diferentes níveis (fonológico, morfológico, sintático, semântico, lexical) na organização de enunciados e na composição de textos. Ele deve compreender aspectos da norma urbana culta como norma de poder e prestígio, bem como o valor social e a funcionalidade de outras variedades da língua.\\n\\nO candidato deve ser capaz de (re)construir o sentido de textos redigidos em português levando em conta múltiplos aspectos, tais como fatores socioeconômicos, ideológicos, culturais e políticos envolvidos nos discursos, e de reconhecer os diferentes dispositivos formais e estruturais que permitem distinguir e configurar cada gênero discursivo.\\n\\nNa escrita, o candidato deve demonstrar consistência argumentativa e domínio de recursos que sirvam à clara exposição de ideias, através de descrições, explicações, relatos, análises, comentários, exemplificações, justificativas, comparações, sugestões etc. Ele deve ser capaz de produzir textos de diferentes gêneros, empregando a variedade e os recursos linguísticos adequados a cada situação comunicativa, levando em conta contextos e interlocutores específicos.\\n\\nEm relação à literatura, o candidato deve demonstrar a capacidade de leitura, compreensão analítica e interpretação crítica de textos produzidos nas tradições das literaturas de língua portuguesa. Ele deve ser capaz de apropriar-se criticamente de um repertório artístico criado em diferentes momentos históricos, que f']\n",
      "Node 10/24\n",
      "Quais são as habilidades e conhecimentos específicos exigidos dos candidatos na prova de Matemática do Vestibular Unicamp, de acordo com o documento fornecido?\n",
      "['Quais são as habilidades e conhecimentos específicos exigidos dos candidatos na prova de Matemática do Vestibular Unicamp, de acordo com o documento fornecido?']\n",
      "['As habilidades e conhecimentos específicos exigidos dos candidatos na prova de Matemática do Vestibular Unicamp incluem:\\n\\n1. Conhecimento crítico e integrado da Matemática do ensino fundamental e do ensino médio.\\n2. Leitura atenta dos enunciados das questões, formulação correta dos problemas matemáticos associados, elaboração cuidadosa dos cálculos, uso correto das unidades, escolha da resposta correta ou apresentação de respostas claras.\\n3. Familiaridade com a nomenclatura e os símbolos matemáticos usuais.\\n4. Capacidade de resolver problemas matemáticos relacionados ao cotidiano, interpretar e elaborar tabelas e gráficos, além de responder questões que tratam de forma mais abstrata o conhecimento matemático.\\n5. Conhecimento das definições e compreensão dos principais teoremas.\\n\\nOs conteúdos programáticos gerais incluem:\\n\\n1. Conjuntos numéricos\\n2. Funções e gráficos\\n3. Polinômios com coeficientes reais\\n4. Contagem e probabilidade\\n5. Sistemas lineares\\n6. Geometria plana\\n7. Geometria espacial\\n8. Trigonometria\\n9. Geometria analítica\\n10. Logaritmos e exponenciais.']\n",
      "Node 11/24\n",
      "Quais são os principais conceitos fundamentais da Geografia e como eles são aplicados na compreensão da dinâmica dos territórios nacionais?\n",
      "['Quais são os principais conceitos fundamentais da Geografia e como eles são aplicados na compreensão da dinâmica dos territórios nacionais?']\n",
      "['Os principais conceitos fundamentais da Geografia incluem espaço geográfico, território, paisagem, meio, região e lugar, além das redes técnicas, as escalas e as fronteiras. Esses conceitos são aplicados na compreensão da dinâmica dos territórios nacionais por meio de distintas abordagens que envolvem aspectos físico-naturais, urbano-regionais, socioeconômicos e culturais, geopolíticos e políticos, recursos naturais e energéticos. Além disso, a Geografia utiliza instrumentos como textos, gráficos, tabelas, cartogramas e mapas para interpretar e compreender a espacialização dos fenômenos.']\n",
      "Node 12/24\n",
      "Quais foram os principais aspectos sociais, políticos, econômicos e culturais das civilizações da Antiguidade Clássica: Grécia e Roma?\n",
      "['Quais foram os principais aspectos sociais, políticos, econômicos e culturais das civilizações da Antiguidade Clássica: Grécia e Roma?']\n",
      "['O documento não fornece informações específicas sobre os principais aspectos sociais, políticos, econômicos e culturais das civilizações da Antiguidade Clássica: Grécia e Roma.']\n",
      "Node 13/24\n",
      "Com base nos conteúdos programáticos gerais para a disciplina de Física, como a compreensão das leis de Newton pode ser aplicada para resolver problemas do cotidiano?\n",
      "['Com base nos conteúdos programáticos gerais para a disciplina de Física, como a compreensão das leis de Newton pode ser aplicada para resolver problemas do cotidiano?']\n",
      "['A compreensão das leis de Newton pode ser aplicada para resolver problemas do cotidiano de várias maneiras. Por exemplo, a primeira lei de Newton, também conhecida como lei da inércia, pode ser usada para entender por que os passageiros de um carro são jogados para frente quando o veículo para repentinamente. A segunda lei de Newton, que estabelece a relação entre força, massa e aceleração, pode ser usada para calcular a força necessária para mover ou parar um objeto em movimento. A terceira lei de Newton, a lei da ação e reação, pode ser usada para entender por que um nadador se move para frente quando empurra a água para trás. Esses são apenas alguns exemplos de como as leis de Newton podem ser aplicadas em situações do cotidiano.']\n",
      "Node 14/24\n",
      "Quais são as habilidades e conhecimentos específicos que a prova de Arquitetura e Urbanismo busca avaliar nos candidatos?\n",
      "['Quais são as habilidades e conhecimentos específicos que a prova de Arquitetura e Urbanismo busca avaliar nos candidatos?']\n",
      "['A prova de Habilidades Específicas para Arquitetura e Urbanismo busca avaliar as capacidades e identificar potenciais dos candidatos relativas a três categorias: \\n\\n1. Domínio espacial e abstrato;\\n2. Observação da paisagem e seus elementos, por meio da análise, da crítica e da síntese;\\n3. Linguagem não-verbal: desenho e expressão gráfica.\\n\\nAlém disso, o exame tem como objetivo avaliar as habilidades do candidato em:\\n\\n- Conjugação e organização de formas planas e volumétricas na criação de composições;\\n- Criatividade no domínio formal e espacial;\\n- Compreensão espacial e manipulação de estruturas tridimensionais;\\n- Percepção visual e capacidade de observação de formas, volumes, dimensões, sombras, proporções;\\n- Capacidade de executar desenhos e representações de memória;\\n- Domínio e expressão gráfica, valendo-se de técnicas e materiais como grafites, lápis de cor e canetas hidrográficas;\\n- Inserção do desenho no contexto da cidade.']\n",
      "Node 15/24\n",
      "Quais são as habilidades específicas avaliadas na primeira parte da prova para o curso de Arquitetura e Urbanismo e quais materiais os candidatos devem levar para a prova?\n",
      "['Quais são as habilidades específicas avaliadas na primeira parte da prova para o curso de Arquitetura e Urbanismo e quais materiais os candidatos devem levar para a prova?']\n",
      "['As habilidades específicas avaliadas na primeira parte da prova para o curso de Arquitetura e Urbanismo são:\\n\\n- Noções de elementos (planos e tridimensionais) e relações espaciais;\\n- Noções de operações bidimensionais e tridimensionais: adição, subtração, espelhamento, clonagem, redução e ampliação, dobra, intersecção, torção, recursão;\\n- Noções de representação dos objetos no espaço;\\n- Noções de incidência de luz sobre objetos, sombra, reflexão;\\n- Noções de projeções e vistas.\\n\\nOs candidatos devem levar os seguintes materiais para a prova:\\n\\n- Lápis ou lapiseira com grafites macias: B, 2B, 6B;\\n- Canetas hidrográficas coloridas;\\n- Caixa de lápis de cor;\\n- Compasso;\\n- Fita adesiva;\\n- Cola bastão;\\n- Tesoura pequena;\\n- Borracha.']\n",
      "Node 16/24\n",
      "Quais são os critérios de avaliação para a prova de Expressão Plástica no curso de Artes Visuais?\n",
      "['Quais são os critérios de avaliação para a prova de Expressão Plástica no curso de Artes Visuais?']\n",
      "['Os critérios de avaliação para a prova de Expressão Plástica no curso de Artes Visuais são:\\n\\na) Capacidade de observar, analisar e representar graficamente objetos e/ou situações apresentadas pela questão.\\nb) Compreensão das relações espaciais e da proporcionalidade entre objetos.\\nc) Uso e compreensão plástica dos elementos da linguagem visual.\\nd) Criatividade e imaginação aplicadas ao tema proposto.']\n",
      "Node 17/24\n",
      "Qual é o objetivo do curso de graduação em Dança da Unicamp e quais são as habilidades que o exame busca avaliar nos candidatos?\n",
      "['Qual é o objetivo do curso de graduação em Dança da Unicamp e quais são as habilidades que o exame busca avaliar nos candidatos?']\n",
      "['O objetivo do curso de graduação em Dança da Unicamp é formar o intérprete/criador e o licenciado em Dança, profissionais aptos a contribuir como agentes transformadores da sociedade, responsáveis pelo próprio corpo, capazes de expressar-se artisticamente, ensinar conhecimentos de dança no âmbito formal e não formal de educação e trabalhar como cidadãos conscientes visando programas sociais. O exame busca avaliar nos candidatos condições corporais e habilidades performáticas, perceptivas e reflexivas, que propiciem o acompanhamento das atividades do curso de Dança pelo futuro estudante. Avalia o potencial artístico, a compreensão corporal de princípios básicos da dança e a performance em dança do candidato.']\n",
      "Node 18/24\n",
      "Qual é o total de vagas oferecidas para o curso de Música no Vestibular Unicamp 2024 e quais são os critérios de avaliação para as Provas de Habilidades Específicas em Música?\n",
      "['Qual é o total de vagas oferecidas para o curso de Música no Vestibular Unicamp 2024 e quais são os critérios de avaliação para as Provas de Habilidades Específicas em Música?']\n",
      "['O total de vagas oferecidas para o curso de Música no Vestibular Unicamp 2024 é de 63 vagas. Os critérios de avaliação para as Provas de Habilidades Específicas em Música incluem a avaliação do desenvolvimento técnico do instrumentista, a maturidade interpretativa, fluidez e andamento da execução, a adequação e a pertinência da peça escolhida, a afinação, ritmo, articulação e fraseado. Além disso, para o curso de Licenciatura, os critérios de avaliação da atividade didática levam em conta a disposição para o ensino, a adequação do repertório utilizado, a coerência na sequência proposta e a clareza na exposição e execução da atividade. Para o curso de Regência, a avaliação considera as habilidades do candidato em relação à sua musicalidade, solfejo e postura vocal. Para o curso de Composição, a análise de portfólio avalia a aptidão do candidato enquanto compositor.']\n",
      "Node 19/24\n",
      "Qual é a duração máxima permitida para os vídeos de audição para o curso de Música Erudita - Violino?\n",
      "['Qual é a duração máxima permitida para os vídeos de audição para o curso de Música Erudita - Violino?']\n",
      "['O Vídeo I e o Vídeo II não devem ultrapassar 500MB ou 4 minutos de duração cada um. O Vídeo III não deve ultrapassar 500MB ou 12 minutos de duração.']\n",
      "Node 20/24\n",
      "Qual é a duração máxima e o tamanho máximo do arquivo para o Vídeo I do Curso de Música Erudita - Composição?\n",
      "['Qual é a duração máxima e o tamanho máximo do arquivo para o Vídeo I do Curso de Música Erudita - Composição?']\n",
      "['O Vídeo I do Curso de Música Erudita - Composição não deve ultrapassar 500MB ou 10 minutos de duração.']\n",
      "Node 21/24\n",
      "Qual é o número de vagas disponíveis para cada instrumento nos cursos de Música Erudita: Instrumentos e Música Popular: Instrumentos, de acordo com o ANEXO IV?\n",
      "['Qual é o número de vagas disponíveis para cada instrumento nos cursos de Música Erudita: Instrumentos e Música Popular: Instrumentos, de acordo com o ANEXO IV?']\n",
      "['Nos cursos de Música Erudita: Instrumentos, as vagas são distribuídas da seguinte forma:\\n\\n- Música Erudita: Clarineta - 3 vagas;\\n- Música Erudita: Flauta - 3 vagas;\\n- Música Erudita: Trombone - 3 vagas;\\n- Música Erudita: Viola - 2 vagas;\\n- Música Erudita: Contrabaixo - 2 vagas;\\n- Música Erudita: Violão - 2 vagas;\\n- Música Erudita: Violoncelo - 2 vagas;\\n- Música Erudita: Percussão - 2 vagas;\\n- Música Erudita: Voz - 2 vagas;\\n- Música Erudita: Piano - 3 vagas;\\n- Música Erudita: Trompete - 2 vagas;\\n- Música Erudita: Violino - 2 vagas.\\n\\nNos cursos de Música Popular: Instrumentos, as vagas são distribuídas da seguinte forma:\\n\\n- Música Popular: Piano - 2 vagas;\\n- Música Popular: Voz - 2 vagas;\\n- Música Popular: Saxofone - 2 vagas;\\n- Música Popular: Contrabaixo - 2 vagas;\\n- Música Popular: Guitarra - 2 vagas;\\n- Música Popular: Bateria - 2 vagas;\\n- Música Popular: Violão - 1 vaga.']\n",
      "Node 22/24\n",
      "Qual é o procedimento para remanejamento de vagas ociosas nos cursos de Música, conforme descrito nos artigos 3º a 7º?\n",
      "['Qual é o procedimento para remanejamento de vagas ociosas nos cursos de Música, conforme descrito nos artigos 3º a 7º?']\n",
      "['O procedimento para remanejamento de vagas ociosas nos cursos de Música é descrito da seguinte forma:\\n\\n- Artigo 3º: Se houver vagas não preenchidas nos cursos de Música Erudita: Instrumentos e Música Popular: Instrumentos, haverá remanejamento das vagas ociosas para as demais modalidades de acesso, na ordem em que são apresentadas nos artigos 1º e 2º, com o limite de uma vaga por opção instrumental em cada curso.\\n\\n- Artigo 4º: Se houver vagas não preenchidas nos cursos de Música Erudita: Instrumentos e Música Popular: Instrumentos, haverá remanejamento das vagas ociosas para os cursos de Música: Licenciatura e Regência, intercalando uma vaga por curso, nessa ordem, e respeitando o limite máximo de quatro vagas para cada um dos cursos. Se ainda restarem vagas ociosas, estas serão remanejadas para o curso de Composição, respeitando o limite máximo de uma vaga.\\n\\n- Artigo 5º: Se houver vagas não preenchidas no curso de Música: Regência, haverá remanejamento das vagas ociosas para o curso de Música: Licenciatura, apenas se não tiver atingido o limite descrito no art. 4º. Caso tal limite tenha sido atingido, haverá remanejamento das vagas ociosas para o curso de Música: Composição, apenas se não tiver atingido o limite descrito no art. 4º. Se ainda houver vagas ociosas, serão remanejadas aos cursos de Música Erudita: Instrumentos e Música Popular: Instrumentos, na mesma ordem apresentada nos artigos 1º e 2º, e apenas se não tiver sido aplicado o critério descrito no art. 3º.\\n\\n- Artigo 6º: Se houver vagas não preenchidas no curso de Música: Composição, haverá remanejamento das vagas ociosas para o curso de Música: Licenciatura, apenas se não tiver']\n",
      "Node 23/24\n",
      "Quais são os requisitos para solicitar a redução parcial da taxa de inscrição do VU 2024, conforme descrito no Anexo VII?\n",
      "['Quais são os requisitos para solicitar a redução parcial da taxa de inscrição do VU 2024, conforme descrito no Anexo VII?']\n",
      "['Os requisitos para solicitar a redução parcial da taxa de inscrição do VU 2024 são:\\n\\n1. O candidato deve ser estudante, considerado como tal se estiver regularmente matriculado em uma das séries do Ensino Fundamental ou Médio, em um curso pré-vestibular, ou em um curso superior, em nível de graduação ou pós-graduação.\\n\\n2. O candidato deve receber remuneração mensal inferior a dois salários-mínimos, ou estar desempregado. \\n\\nAlém disso, os candidatos que solicitarem a redução da taxa devem fazer upload da documentação comprobatória no momento do preenchimento do formulário eletrônico, na área de inscrito do candidato. A documentação necessária inclui comprovantes da condição de estudante, comprovantes de renda e, se aplicável, comprovantes da condição de desempregado.']\n"
     ]
    }
   ],
   "source": [
    "qa_pairs = generate_qa_pairs(\n",
    "    nodes,\n",
    "    llm,\n",
    "    num_questions_per_chunk=1,\n",
    ")"
   ]
  },
  {
   "cell_type": "code",
   "execution_count": 18,
   "metadata": {},
   "outputs": [
    {
     "data": {
      "text/plain": [
       "('Qual é o total de vagas oferecidas para o Vestibular Unicamp 2024 e como elas estão distribuídas entre os diferentes sistemas de ingresso?',\n",
       " 'Para o ano de 2024, a Universidade Estadual de Campinas (Unicamp) está oferecendo um total de 3340 vagas regulares para ingresso nos Cursos de Graduação. Essas vagas estão distribuídas da seguinte forma entre os diferentes sistemas de ingresso:\\n\\n- 2537 vagas são oferecidas pelo Vestibular Unicamp (VU) 2024.\\n- 314 vagas são oferecidas pelo Edital ENEM-Unicamp 2024.\\n- 325 vagas são oferecidas pelo Provão Paulista 2024.\\n- 49 vagas são oferecidas pelo Vestibular Indígena (VI) 2024, que terá ainda 81 vagas adicionais.\\n- 115 vagas são oferecidas pelo Edital de olimpíadas científicas e competições de conhecimento de áreas específicas, que terá ainda 14 vagas adicionais.')"
      ]
     },
     "execution_count": 18,
     "metadata": {},
     "output_type": "execute_result"
    }
   ],
   "source": [
    "qa_pairs[0]"
   ]
  },
  {
   "cell_type": "code",
   "execution_count": 23,
   "metadata": {},
   "outputs": [],
   "source": [
    "# save\n",
    "import pickle\n",
    "\n",
    "pickle.dump(qa_pairs, open(\"eval_dataset.pkl\", \"wb\"))"
   ]
  }
 ],
 "metadata": {
  "kernelspec": {
   "display_name": "chatbot",
   "language": "python",
   "name": "python3"
  },
  "language_info": {
   "codemirror_mode": {
    "name": "ipython",
    "version": 3
   },
   "file_extension": ".py",
   "mimetype": "text/x-python",
   "name": "python",
   "nbconvert_exporter": "python",
   "pygments_lexer": "ipython3",
   "version": "3.9.18"
  }
 },
 "nbformat": 4,
 "nbformat_minor": 2
}
